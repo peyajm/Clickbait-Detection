{
 "cells": [
  {
   "cell_type": "code",
   "execution_count": 1,
   "metadata": {},
   "outputs": [
    {
     "data": {
      "text/plain": [
       "Index(['Title', 'Video ID', 'Video URL', 'Channel Title', 'Misleading Video',\n",
       "       'False Promises ', 'Exaggerated Video', 'Spam Content ',\n",
       "       'Exploits Curiosity Gap :', 'Label'],\n",
       "      dtype='object')"
      ]
     },
     "execution_count": 1,
     "metadata": {},
     "output_type": "execute_result"
    }
   ],
   "source": [
    "import pandas as pd\n",
    "import numpy as np\n",
    "import stellargraph\n",
    "\n",
    "data = pd.read_csv('BollyBAIT.csv')\n",
    "data.columns"
   ]
  },
  {
   "cell_type": "code",
   "execution_count": 7,
   "metadata": {},
   "outputs": [
    {
     "ename": "ValueError",
     "evalue": "DataFrame constructor not properly called!",
     "output_type": "error",
     "traceback": [
      "\u001b[0;31m---------------------------------------------------------------------------\u001b[0m",
      "\u001b[0;31mValueError\u001b[0m                                Traceback (most recent call last)",
      "\u001b[0;32m<ipython-input-7-f2f8d6b11788>\u001b[0m in \u001b[0;36m<module>\u001b[0;34m\u001b[0m\n\u001b[1;32m     74\u001b[0m     \u001b[0mmat1\u001b[0m\u001b[0;34m=\u001b[0m\u001b[0mdataframe\u001b[0m\u001b[0;34m.\u001b[0m\u001b[0mto_numpy\u001b[0m\u001b[0;34m(\u001b[0m\u001b[0;34m)\u001b[0m\u001b[0;34m\u001b[0m\u001b[0;34m\u001b[0m\u001b[0m\n\u001b[1;32m     75\u001b[0m     '''\n\u001b[0;32m---> 76\u001b[0;31m     \u001b[0mnode_features\u001b[0m\u001b[0;34m=\u001b[0m\u001b[0mpd\u001b[0m\u001b[0;34m.\u001b[0m\u001b[0mDataFrame\u001b[0m\u001b[0;34m(\u001b[0m\u001b[0mnode_feature\u001b[0m\u001b[0;34m)\u001b[0m\u001b[0;34m\u001b[0m\u001b[0;34m\u001b[0m\u001b[0m\n\u001b[0m\u001b[1;32m     77\u001b[0m     \u001b[0;31m#print(edgewt.shape)\u001b[0m\u001b[0;34m\u001b[0m\u001b[0;34m\u001b[0m\u001b[0;34m\u001b[0m\u001b[0m\n\u001b[1;32m     78\u001b[0m     \u001b[0;31m#edgewt.reshape(edgematlen,1)\u001b[0m\u001b[0;34m\u001b[0m\u001b[0;34m\u001b[0m\u001b[0;34m\u001b[0m\u001b[0m\n",
      "\u001b[0;32m/opt/anaconda3/lib/python3.7/site-packages/pandas/core/frame.py\u001b[0m in \u001b[0;36m__init__\u001b[0;34m(self, data, index, columns, dtype, copy)\u001b[0m\n\u001b[1;32m    483\u001b[0m                 )\n\u001b[1;32m    484\u001b[0m             \u001b[0;32melse\u001b[0m\u001b[0;34m:\u001b[0m\u001b[0;34m\u001b[0m\u001b[0;34m\u001b[0m\u001b[0m\n\u001b[0;32m--> 485\u001b[0;31m                 \u001b[0;32mraise\u001b[0m \u001b[0mValueError\u001b[0m\u001b[0;34m(\u001b[0m\u001b[0;34m\"DataFrame constructor not properly called!\"\u001b[0m\u001b[0;34m)\u001b[0m\u001b[0;34m\u001b[0m\u001b[0;34m\u001b[0m\u001b[0m\n\u001b[0m\u001b[1;32m    486\u001b[0m \u001b[0;34m\u001b[0m\u001b[0m\n\u001b[1;32m    487\u001b[0m         \u001b[0mNDFrame\u001b[0m\u001b[0;34m.\u001b[0m\u001b[0m__init__\u001b[0m\u001b[0;34m(\u001b[0m\u001b[0mself\u001b[0m\u001b[0;34m,\u001b[0m \u001b[0mmgr\u001b[0m\u001b[0;34m,\u001b[0m \u001b[0mfastpath\u001b[0m\u001b[0;34m=\u001b[0m\u001b[0;32mTrue\u001b[0m\u001b[0;34m)\u001b[0m\u001b[0;34m\u001b[0m\u001b[0;34m\u001b[0m\u001b[0m\n",
      "\u001b[0;31mValueError\u001b[0m: DataFrame constructor not properly called!"
     ]
    }
   ],
   "source": [
    "import os\n",
    "import pickle\n",
    "import stellargraph\n",
    "labels = []\n",
    "graphs=[]\n",
    "for ind in data.index:\n",
    "    name_tag = data['Video ID'][ind]\n",
    "    #youtube_video_url = \"https://www.youtube.com/watch?v=\" + name_tag\n",
    "    #folder_path = \"C:/Users/minij/Downloads/Clickbait Detection/Keyframes/\" + name_tag + \"/\"\n",
    "    #directory=\"C:/Users/DELL/Desktop/clickbaitmajor/bollybait/\"+name_tag\n",
    "    if (os.path.exists(\"/Users/peyamowar/Downloads/clickbait_youtube/graph cnn bollybait/graph cnn/\"+name_tag)==False):\n",
    "        print(name_tag)\n",
    "        continue\n",
    "    file1= open(\"/Users/peyamowar/Downloads/clickbait_youtube/graph cnn bollybait/graph cnn/\"+name_tag,'rb')\n",
    "    #+\".txt\"\n",
    "    source=[]\n",
    "    target=[]\n",
    "    edgewt=[]\n",
    "    node_feature=[]\n",
    "    edgemat=[]\n",
    "    while True:\n",
    "        try:\n",
    "        #reading the oject from file\n",
    "            employee = pickle.load(file1)\n",
    "            source = employee['source']\n",
    "            target = employee['target']\n",
    "            edgewt = employee['weight']\n",
    "            node_feature = employee['nodes']\n",
    "            edgemat = employee['edges']\n",
    "           \n",
    "        except EOFError:\n",
    "            break\n",
    "    file1.close()\n",
    "    video_name = name_tag\n",
    "    '''\n",
    "    if (os.path.exists(folder_path+\"/keyframes\")==False):\n",
    "        print(name_tag)\n",
    "        continue\n",
    "    if (os.path.exists(folder_path+\"/keyframeresnetfeatures.csv\")==False):\n",
    "        print(name_tag)\n",
    "        continue\n",
    "    path, dirs, files = next(os.walk(folder_path+\"/keyframes\"))\n",
    "    file_count = len(files)\n",
    "    if (file_count==0):\n",
    "        print(name_tag)\n",
    "        continue\n",
    "    edgematlen=file_count\n",
    "    source=[i for i in range(1,edgematlen+1)]\n",
    "    target=[0 for i in range(1,edgematlen+1)]\n",
    "    node_features=[]\n",
    "    directorykeyframes = directory + \"/keyframes\"\n",
    "    \n",
    "    thumbnail = directory + \"/\" + name_tag + \"_thumbnail.jpg\"\n",
    "    list_dir = os.listdir(folder_path+\"keyframes\")\n",
    "    list_dir = [f.lower() for f in list_dir]\n",
    "    list_dir = sorted(list_dir)\n",
    "    edgewt=np.empty((0,1), float)\n",
    "    #dgewt.append(imagesim(thumbnail, thumbnail))\n",
    "    co=0\n",
    "    \n",
    "    for file in list_dir:\n",
    "        if file != '.ds_store':\n",
    "            imgpath = folder_path+\"keyframes\"+\"/\"+file \n",
    "            #yen = imagesim(thumbnail, imgpath)['output']['distance']\n",
    "            #yen=imagesimilarity(thumbnail, imgpath)\n",
    "            #yen=sift_sim(thumbnail, imgpath)\n",
    "            yen=imagesimval(thumbnail, imgpath)\n",
    "            edgewt=np.append(edgewt, yen)\n",
    "            co=co+1\n",
    "    if (co!=edgematlen):\n",
    "        print(name_tag)\n",
    "        continue\n",
    "    dataframe = pd.read_csv(folder_path + \"keyframeresnetfeatures.csv\")\n",
    "    mat1=dataframe.to_numpy()\n",
    "    '''\n",
    "    node_features=pd.DataFrame(node_feature)\n",
    "    #print(edgewt.shape)\n",
    "    #edgewt.reshape(edgematlen,1)\n",
    "    #print(mat1.shape)\n",
    "    #print(edgewt.shape)\n",
    "    #print(video_name)\n",
    "    #print(node_features)\n",
    "    #print(edgewt)\n",
    "    print(ind)\n",
    "    labels.append(data['Label'][ind])\n",
    "    edgemat=pd.DataFrame({\"source\": source, \"target\": target, \"weight\": edgewt})\n",
    "    graph = stellargraph.StellarGraph(nodes = node_features, edges=edgemat)\n",
    "    graphs.append(graph)"
   ]
  },
  {
   "cell_type": "code",
   "execution_count": 5,
   "metadata": {},
   "outputs": [
    {
     "name": "stdout",
     "output_type": "stream",
     "text": [
      "[]\n"
     ]
    }
   ],
   "source": [
    "print(graphs)"
   ]
  },
  {
   "cell_type": "code",
   "execution_count": null,
   "metadata": {},
   "outputs": [],
   "source": [
    "import stellargraph as sg\n",
    "from stellargraph.mapper import PaddedGraphGenerator\n",
    "from stellargraph.layer import GCNSupervisedGraphClassification\n",
    "from stellargraph import StellarGraph\n",
    "\n",
    "from stellargraph import datasets\n",
    "\n",
    "from sklearn import model_selection\n",
    "from IPython.display import display, HTML\n",
    "\n",
    "from tensorflow.keras.callbacks import EarlyStopping\n",
    "import matplotlib.pyplot as plt\n",
    "\n",
    "from stellargraph.layer import DeepGraphCNN\n",
    "from stellargraph import StellarGraph\n",
    "\n",
    "from sklearn import model_selection\n",
    "from IPython.display import display, HTML\n",
    "\n",
    "from tensorflow.keras import Model\n",
    "from tensorflow.keras.optimizers import Adam\n",
    "from tensorflow.keras.layers import Dense, Conv1D, MaxPool1D, Dropout, Flatten\n",
    "from tensorflow.keras.losses import binary_crossentropy\n",
    "import tensorflow as tf\n",
    "\n",
    "df = pd.DataFrame(labels, columns=['Label'])\n",
    "\n",
    "graph_labels = pd.get_dummies(df['Label'])"
   ]
  },
  {
   "cell_type": "code",
   "execution_count": null,
   "metadata": {},
   "outputs": [],
   "source": [
    "graph_labels"
   ]
  },
  {
   "cell_type": "code",
   "execution_count": null,
   "metadata": {},
   "outputs": [],
   "source": [
    "generator = PaddedGraphGenerator(graphs=graphs)"
   ]
  },
  {
   "cell_type": "code",
   "execution_count": null,
   "metadata": {},
   "outputs": [],
   "source": [
    "k = 35  # the number of rows for the output tensor\n",
    "layer_sizes = [64, 64, 64, 1]\n",
    "\n",
    "dgcnn_model = DeepGraphCNN(\n",
    "    layer_sizes=layer_sizes,\n",
    "    activations=[\"tanh\", \"tanh\", \"tanh\", \"tanh\"],\n",
    "    k=k,\n",
    "    bias=False,\n",
    "    generator=generator,\n",
    ")\n",
    "x_inp, x_out = dgcnn_model.in_out_tensors()"
   ]
  },
  {
   "cell_type": "code",
   "execution_count": null,
   "metadata": {},
   "outputs": [],
   "source": [
    "x_out = Conv1D(filters=32, kernel_size=sum(layer_sizes), strides=sum(layer_sizes))(x_out)\n",
    "x_out = MaxPool1D(pool_size=2)(x_out)\n",
    "\n",
    "x_out = Conv1D(filters=64, kernel_size=5, strides=1)(x_out)\n",
    "\n",
    "x_out = Flatten()(x_out)\n",
    "\n",
    "x_out = Dense(units=128, activation=\"relu\", name=\"layer5\")(x_out)\n",
    "x_out = Dropout(rate=0.5)(x_out)\n",
    "x_out = Dense(units=64, activation=\"relu\", name=\"layer7\")(x_out)\n",
    "x_out = Dropout(rate=0.5)(x_out)\n",
    "x_out = Dense(units=16, activation=\"relu\", name=\"layer9\")(x_out)\n",
    "x_out = Dropout(rate=0.5)(x_out)\n",
    "\n",
    "predictions = Dense(units=1, activation=\"sigmoid\")(x_out)"
   ]
  },
  {
   "cell_type": "code",
   "execution_count": null,
   "metadata": {},
   "outputs": [],
   "source": [
    "model = Model(inputs=x_inp, outputs=predictions)\n",
    "\n",
    "model.compile(\n",
    "    optimizer=Adam(lr=0.0001), loss=binary_crossentropy, metrics=[\"acc\"],\n",
    ")"
   ]
  },
  {
   "cell_type": "code",
   "execution_count": null,
   "metadata": {},
   "outputs": [],
   "source": [
    "train_graphs, test_graphs = model_selection.train_test_split(\n",
    "    graph_labels, train_size=0.8, test_size=None, stratify=graph_labels,\n",
    ")"
   ]
  },
  {
   "cell_type": "code",
   "execution_count": null,
   "metadata": {},
   "outputs": [],
   "source": [
    "gen = PaddedGraphGenerator(graphs=graphs)\n",
    "\n",
    "train_gen = gen.flow(\n",
    "    list(train_graphs.index - 1),\n",
    "    targets=train_graphs.values,\n",
    "    batch_size=1,\n",
    "    symmetric_normalization=False,\n",
    ")\n",
    "\n",
    "test_gen = gen.flow(\n",
    "    list(test_graphs.index - 1),\n",
    "    targets=test_graphs.values,\n",
    "    batch_size=1,\n",
    "    symmetric_normalization=False,\n",
    ")"
   ]
  },
  {
   "cell_type": "code",
   "execution_count": null,
   "metadata": {},
   "outputs": [],
   "source": [
    "epochs = 10\n",
    "history = model.fit(\n",
    "    train_gen, epochs=epochs, verbose=1, validation_data=test_gen, shuffle=True,\n",
    ")"
   ]
  },
  {
   "cell_type": "code",
   "execution_count": null,
   "metadata": {},
   "outputs": [],
   "source": [
    "test_metrics = model.evaluate(test_gen)\n",
    "print(\"\\nTest Set Metrics:\")\n",
    "for name, val in zip(model.metrics_names, test_metrics):\n",
    "    print(\"\\t{}: {:0.4f}\".format(name, val))"
   ]
  },
  {
   "cell_type": "code",
   "execution_count": null,
   "metadata": {},
   "outputs": [],
   "source": [
    "predictions = model.predict(train_gen)\n",
    "# round predictions \n",
    "rounded = [round(x[0]) for x in predictions]\n",
    "predictions"
   ]
  },
  {
   "cell_type": "code",
   "execution_count": null,
   "metadata": {},
   "outputs": [],
   "source": [
    "extractor = Model(model.inputs, model.get_layer('layer7').output)\n",
    "features = extractor.predict(train_gen)\n",
    "features"
   ]
  },
  {
   "cell_type": "code",
   "execution_count": null,
   "metadata": {},
   "outputs": [],
   "source": []
  }
 ],
 "metadata": {
  "kernelspec": {
   "display_name": "Python 3",
   "language": "python",
   "name": "python3"
  },
  "language_info": {
   "codemirror_mode": {
    "name": "ipython",
    "version": 3
   },
   "file_extension": ".py",
   "mimetype": "text/x-python",
   "name": "python",
   "nbconvert_exporter": "python",
   "pygments_lexer": "ipython3",
   "version": "3.7.4"
  }
 },
 "nbformat": 4,
 "nbformat_minor": 2
}
